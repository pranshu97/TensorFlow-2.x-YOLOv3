{
 "cells": [
  {
   "cell_type": "code",
   "execution_count": null,
   "metadata": {
    "colab": {
     "base_uri": "https://localhost:8080/",
     "height": 306
    },
    "colab_type": "code",
    "executionInfo": {
     "elapsed": 4089,
     "status": "ok",
     "timestamp": 1590584809036,
     "user": {
      "displayName": "Python Lessons",
      "photoUrl": "https://lh3.googleusercontent.com/a-/AOh14GgMQmMhFapKcavl337-vY17yrbowBHBlZQ5qYQv=s64",
      "userId": "12382394757900236362"
     },
     "user_tz": -180
    },
    "id": "srBiJiFEaKl1",
    "outputId": "895fe688-a0a2-4920-fc8b-85637ba04133"
   },
   "outputs": [],
   "source": [
    "# Check if NVIDIA GPU is enabled\n",
    "!nvidia-smi"
   ]
  },
  {
   "cell_type": "code",
   "execution_count": null,
   "metadata": {
    "colab": {
     "base_uri": "https://localhost:8080/",
     "height": 139
    },
    "colab_type": "code",
    "executionInfo": {
     "elapsed": 28981,
     "status": "ok",
     "timestamp": 1590584890573,
     "user": {
      "displayName": "Python Lessons",
      "photoUrl": "https://lh3.googleusercontent.com/a-/AOh14GgMQmMhFapKcavl337-vY17yrbowBHBlZQ5qYQv=s64",
      "userId": "12382394757900236362"
     },
     "user_tz": -180
    },
    "id": "PjjcQSpya_FR",
    "outputId": "8d9a74f4-316f-44e1-b6a6-d4ee3a6406f7"
   },
   "outputs": [],
   "source": [
    "from google.colab import drive\n",
    "drive.mount('/content/drive')"
   ]
  },
  {
   "cell_type": "code",
   "execution_count": null,
   "metadata": {
    "colab": {
     "base_uri": "https://localhost:8080/",
     "height": 119
    },
    "colab_type": "code",
    "executionInfo": {
     "elapsed": 1958,
     "status": "ok",
     "timestamp": 1590584966366,
     "user": {
      "displayName": "Python Lessons",
      "photoUrl": "https://lh3.googleusercontent.com/a-/AOh14GgMQmMhFapKcavl337-vY17yrbowBHBlZQ5qYQv=s64",
      "userId": "12382394757900236362"
     },
     "user_tz": -180
    },
    "id": "iYM4wmy-cFlK",
    "outputId": "f7aa41fc-1325-4cce-abb8-ba0063c66cea"
   },
   "outputs": [],
   "source": [
    "git clone https://github.com/pranshu97/TensorFlow-2.x-YOLOv3.git\n",
    "%cd TensorFlow-2.x-YOLOv3/\n",
    "!pip install -r requirements.txt"
   ]
  },
  {
   "cell_type": "code",
   "execution_count": null,
   "metadata": {
    "colab": {},
    "colab_type": "code",
    "id": "UX-LG3R6An5U"
   },
   "outputs": [],
   "source": [
    "!wget -P model_data https://pjreddie.com/media/files/yolov3.weights"
   ]
  },
  {
   "cell_type": "code",
   "execution_count": null,
   "metadata": {
    "colab": {},
    "colab_type": "code",
    "id": "NUKLydfYCo4r"
   },
   "outputs": [],
   "source": [
    "import cv2\n",
    "import numpy as np\n",
    "import matplotlib\n",
    "import matplotlib.pyplot as plt\n",
    "%matplotlib inline  \n",
    "import tensorflow as tf\n",
    "from yolov3.yolov3 import Create_Yolov3\n",
    "from yolov3.utils import load_yolo_weights, detect_image\n",
    "from yolov3.configs import *\n",
    "\n",
    "input_size = YOLO_INPUT_SIZE"
   ]
  },
  {
   "cell_type": "code",
   "execution_count": null,
   "metadata": {
    "colab": {
     "base_uri": "https://localhost:8080/",
     "height": 1000
    },
    "colab_type": "code",
    "executionInfo": {
     "elapsed": 183659,
     "status": "ok",
     "timestamp": 1590585515482,
     "user": {
      "displayName": "Python Lessons",
      "photoUrl": "https://lh3.googleusercontent.com/a-/AOh14GgMQmMhFapKcavl337-vY17yrbowBHBlZQ5qYQv=s64",
      "userId": "12382394757900236362"
     },
     "user_tz": -180
    },
    "id": "pXlFGBAp7Ibg",
    "outputId": "8a3a485a-8302-4ae5-ff74-61942c1b08b1"
   },
   "outputs": [],
   "source": [
    "#Prepare dataset before running this\n",
    "!python tools/XML_to_YOLOv3.py"
   ]
  },
  {
   "cell_type": "code",
   "execution_count": null,
   "metadata": {
    "colab": {
     "base_uri": "https://localhost:8080/",
     "height": 1000
    },
    "colab_type": "code",
    "executionInfo": {
     "elapsed": 7335711,
     "status": "ok",
     "timestamp": 1589546087079,
     "user": {
      "displayName": "Python Lessons",
      "photoUrl": "https://lh3.googleusercontent.com/a-/AOh14GgMQmMhFapKcavl337-vY17yrbowBHBlZQ5qYQv=s64",
      "userId": "12382394757900236362"
     },
     "user_tz": -180
    },
    "id": "rUxAdSEQEdpG",
    "outputId": "d1160f98-4fa8-4636-ffcc-7df8180f0988"
   },
   "outputs": [],
   "source": [
    "from train import *\n",
    "tf.keras.backend.clear_session()\n",
    "main()"
   ]
  },
  {
   "cell_type": "code",
   "execution_count": null,
   "metadata": {
    "colab": {
     "base_uri": "https://localhost:8080/",
     "height": 34
    },
    "colab_type": "code",
    "executionInfo": {
     "elapsed": 14228,
     "status": "ok",
     "timestamp": 1590585655101,
     "user": {
      "displayName": "Python Lessons",
      "photoUrl": "https://lh3.googleusercontent.com/a-/AOh14GgMQmMhFapKcavl337-vY17yrbowBHBlZQ5qYQv=s64",
      "userId": "12382394757900236362"
     },
     "user_tz": -180
    },
    "id": "W5CuaoSI3KRm",
    "outputId": "ce230a6d-934a-49d6-b711-3d0a94746740"
   },
   "outputs": [],
   "source": [
    "yolo = Create_Yolov3(input_size=input_size, CLASSES=TRAIN_CLASSES)\n",
    "yolo.load_weights(\"./checkpoints/yolov3_custom\") "
   ]
  }
 ],
 "metadata": {
  "accelerator": "GPU",
  "colab": {
   "authorship_tag": "ABX9TyOB0I3ikjcm9I2jjlrkl/C+",
   "collapsed_sections": [],
   "name": "YOLOv3_colab_training.ipynb",
   "provenance": []
  },
  "kernelspec": {
   "display_name": "Python 3",
   "language": "python",
   "name": "python3"
  },
  "language_info": {
   "codemirror_mode": {
    "name": "ipython",
    "version": 3
   },
   "file_extension": ".py",
   "mimetype": "text/x-python",
   "name": "python",
   "nbconvert_exporter": "python",
   "pygments_lexer": "ipython3",
   "version": "3.7.4"
  }
 },
 "nbformat": 4,
 "nbformat_minor": 1
}
